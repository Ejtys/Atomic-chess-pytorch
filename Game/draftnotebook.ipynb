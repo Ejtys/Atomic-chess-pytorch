{
 "cells": [
  {
   "cell_type": "code",
   "execution_count": 2,
   "metadata": {},
   "outputs": [
    {
     "data": {
      "text/plain": [
       "[[0, 0, 0, 0, 0, 0, 0, 0],\n",
       " [0, 0, 0, 0, 0, 0, 0, 0],\n",
       " [0, 0, 0, 0, 0, 0, 0, 0],\n",
       " [0, 0, 0, 0, 0, 0, 0, 0],\n",
       " [0, 0, 0, 0, 0, 0, 0, 0],\n",
       " [0, 0, 0, 0, 0, 0, 0, 0],\n",
       " [0, 0, 0, 0, 0, 0, 0, 0],\n",
       " [0, 0, 0, 0, 0, 0, 0, 0]]"
      ]
     },
     "execution_count": 2,
     "metadata": {},
     "output_type": "execute_result"
    }
   ],
   "source": [
    "def makeMatrix(i:int):\n",
    "    MATRIX = []\n",
    "    for x in range(i):\n",
    "        row = []\n",
    "        for y in range(i):\n",
    "            row.append(0)\n",
    "        MATRIX.append(row)\n",
    "    return MATRIX\n",
    "\n",
    "M = makeMatrix(8)\n",
    "M\n"
   ]
  },
  {
   "cell_type": "code",
   "execution_count": 9,
   "metadata": {},
   "outputs": [
    {
     "data": {
      "text/plain": [
       "[[1, 0, 0, 0, 0, 0, 1, 0],\n",
       " [0, 1, 0, 0, 0, 1, 0, 0],\n",
       " [0, 0, 1, 0, 1, 0, 0, 0],\n",
       " [0, 0, 0, 5, 0, 0, 0, 0],\n",
       " [0, 0, 1, 0, 1, 0, 0, 0],\n",
       " [0, 1, 0, 0, 0, 1, 0, 0],\n",
       " [1, 0, 0, 0, 0, 0, 1, 0],\n",
       " [0, 0, 0, 0, 0, 0, 0, 1]]"
      ]
     },
     "execution_count": 9,
     "metadata": {},
     "output_type": "execute_result"
    }
   ],
   "source": [
    "def MarkDiagonal(i:int, X:int, Y:int):\n",
    "    MATRIX = []\n",
    "    for x in range(i):\n",
    "        row = []\n",
    "        for y in range(i):\n",
    "            if x - y == X - Y:\n",
    "                row.append(1)\n",
    "            elif x + y == X + Y:\n",
    "                row.append(1)\n",
    "            else:\n",
    "                row.append(0)\n",
    "        MATRIX.append(row)\n",
    "    MATRIX[X][Y] = 5\n",
    "    return MATRIX\n",
    "\n",
    "M = MarkDiagonal(8, 3, 3)\n",
    "M"
   ]
  },
  {
   "cell_type": "code",
   "execution_count": 17,
   "metadata": {},
   "outputs": [
    {
     "data": {
      "text/plain": [
       "(1, -1)"
      ]
     },
     "execution_count": 17,
     "metadata": {},
     "output_type": "execute_result"
    }
   ],
   "source": [
    "# (3, 3) i (5, 5)\n",
    "def checkDiagonalDirection(start, end):\n",
    "    if start[0] < end[0]:\n",
    "        topbottom = 1\n",
    "    else:\n",
    "        topbottom = -1\n",
    "    if start[1] < end[1]:\n",
    "        sides = 1\n",
    "    else:\n",
    "        sides = -1\n",
    "    return (topbottom, sides)\n",
    "\n",
    "checkDiagonalDirection((0,2), (2,0))"
   ]
  },
  {
   "cell_type": "code",
   "execution_count": 15,
   "metadata": {},
   "outputs": [
    {
     "data": {
      "text/plain": [
       "True"
      ]
     },
     "execution_count": 15,
     "metadata": {},
     "output_type": "execute_result"
    }
   ],
   "source": [
    "def isDiagonal(start, end):\n",
    "        x1 = start[0]\n",
    "        y1 = start[1]\n",
    "        x2 = end[0]\n",
    "        y2 = end[1]\n",
    "        return x1 - y1 == x2 - y2 or x1 + y1 == x2 + y2\n",
    "\n",
    "isDiagonal((0,2), (2,0))"
   ]
  },
  {
   "cell_type": "code",
   "execution_count": 31,
   "metadata": {},
   "outputs": [
    {
     "data": {
      "text/plain": [
       "True"
      ]
     },
     "execution_count": 31,
     "metadata": {},
     "output_type": "execute_result"
    }
   ],
   "source": [
    "M = makeMatrix(10)\n",
    "end = (0, 9)\n",
    "start = (9, 0)\n",
    "isDiagonal(start, end)"
   ]
  },
  {
   "cell_type": "code",
   "execution_count": 32,
   "metadata": {},
   "outputs": [
    {
     "data": {
      "text/plain": [
       "(-1, 1)"
      ]
     },
     "execution_count": 32,
     "metadata": {},
     "output_type": "execute_result"
    }
   ],
   "source": [
    "directions = checkDiagonalDirection(start, end)\n",
    "directions"
   ]
  },
  {
   "cell_type": "code",
   "execution_count": 33,
   "metadata": {},
   "outputs": [
    {
     "data": {
      "text/plain": [
       "[[0, 0, 0, 0, 0, 0, 0, 0, 0, 3],\n",
       " [0, 0, 0, 0, 0, 0, 0, 0, 1, 0],\n",
       " [0, 0, 0, 0, 0, 0, 0, 1, 0, 0],\n",
       " [0, 0, 0, 0, 0, 0, 1, 0, 0, 0],\n",
       " [0, 0, 0, 0, 0, 1, 0, 0, 0, 0],\n",
       " [0, 0, 0, 0, 1, 0, 0, 0, 0, 0],\n",
       " [0, 0, 0, 1, 0, 0, 0, 0, 0, 0],\n",
       " [0, 0, 1, 0, 0, 0, 0, 0, 0, 0],\n",
       " [0, 1, 0, 0, 0, 0, 0, 0, 0, 0],\n",
       " [2, 0, 0, 0, 0, 0, 0, 0, 0, 0]]"
      ]
     },
     "execution_count": 33,
     "metadata": {},
     "output_type": "execute_result"
    }
   ],
   "source": [
    "step = (start[0] + directions[0], start[1] + directions[1])\n",
    "while step != end:\n",
    "    M[step[0]][step[1]] = 1\n",
    "    step = (step[0] + directions[0], step[1] + directions[1])\n",
    "M[start[0]][start[1]] = 2\n",
    "M[end[0]][end[1]] = 3   \n",
    "M"
   ]
  },
  {
   "cell_type": "code",
   "execution_count": null,
   "metadata": {},
   "outputs": [],
   "source": []
  }
 ],
 "metadata": {
  "kernelspec": {
   "display_name": "LearningPytorch",
   "language": "python",
   "name": "python3"
  },
  "language_info": {
   "codemirror_mode": {
    "name": "ipython",
    "version": 3
   },
   "file_extension": ".py",
   "mimetype": "text/x-python",
   "name": "python",
   "nbconvert_exporter": "python",
   "pygments_lexer": "ipython3",
   "version": "3.11.4"
  },
  "orig_nbformat": 4
 },
 "nbformat": 4,
 "nbformat_minor": 2
}
